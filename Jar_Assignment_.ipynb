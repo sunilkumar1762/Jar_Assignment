{
  "nbformat": 4,
  "nbformat_minor": 0,
  "metadata": {
    "colab": {
      "provenance": [],
      "authorship_tag": "ABX9TyPn/tW30f6on4ViHYQB/r4s",
      "include_colab_link": true
    },
    "kernelspec": {
      "name": "python3",
      "display_name": "Python 3"
    },
    "language_info": {
      "name": "python"
    }
  },
  "cells": [
    {
      "cell_type": "markdown",
      "metadata": {
        "id": "view-in-github",
        "colab_type": "text"
      },
      "source": [
        "<a href=\"https://colab.research.google.com/github/sunilkumar1762/Jar_Assignment/blob/main/Jar_Assignment_.ipynb\" target=\"_parent\"><img src=\"https://colab.research.google.com/assets/colab-badge.svg\" alt=\"Open In Colab\"/></a>"
      ]
    },
    {
      "cell_type": "code",
      "execution_count": 35,
      "metadata": {
        "id": "yL1UCpvFmW4d"
      },
      "outputs": [],
      "source": [
        "\n",
        "import pandas as pd\n",
        "import matplotlib.pyplot as plt\n",
        "import seaborn as sns\n"
      ]
    },
    {
      "cell_type": "code",
      "source": [
        "\n",
        "file_path = '/content/Walmart_Sales_CB1799BACC_77EAC63B5D.xlsx'\n",
        "df = pd.read_excel(file_path)\n",
        "df.head()\n"
      ],
      "metadata": {
        "colab": {
          "base_uri": "https://localhost:8080/",
          "height": 330
        },
        "id": "2Rtc4-_1nFgE",
        "outputId": "83e00f46-e0af-4fa1-c010-6622db2b00df"
      },
      "execution_count": 36,
      "outputs": [
        {
          "output_type": "execute_result",
          "data": {
            "text/plain": [
              "    Invoice ID Branch       City Customer type  Gender  \\\n",
              "0  750-67-8428      A     Yangon        Member  Female   \n",
              "1  226-31-3081      A  Naypyitaw        Normal  Female   \n",
              "2  631-41-3108      A     Yangon        Normal    Male   \n",
              "3  123-19-1176      B     Yangon        Member    Male   \n",
              "4  373-73-7910      C     Yangon        Normal    Male   \n",
              "\n",
              "             Product line  Unit price  Quantity       Date      Time  \\\n",
              "0       Health and beauty       74.69         7   1/5/2019  13:08:00   \n",
              "1  Electronic accessories       15.28         5   3/8/2019  10:29:00   \n",
              "2      Home and lifestyle       46.33         7   3/3/2019  13:23:00   \n",
              "3       Health and beauty       58.22         8  1/27/2019  20:33:00   \n",
              "4       Sports and travel       86.31         7   2/8/2019  10:37:00   \n",
              "\n",
              "       Payment  Rating  \n",
              "0      Ewallet     9.1  \n",
              "1         Cash     9.6  \n",
              "2  Credit card     7.4  \n",
              "3      Ewallet     8.4  \n",
              "4      Ewallet     5.3  "
            ],
            "text/html": [
              "\n",
              "  <div id=\"df-dd62c4f9-126b-4bce-8466-82fc66fa2c99\" class=\"colab-df-container\">\n",
              "    <div>\n",
              "<style scoped>\n",
              "    .dataframe tbody tr th:only-of-type {\n",
              "        vertical-align: middle;\n",
              "    }\n",
              "\n",
              "    .dataframe tbody tr th {\n",
              "        vertical-align: top;\n",
              "    }\n",
              "\n",
              "    .dataframe thead th {\n",
              "        text-align: right;\n",
              "    }\n",
              "</style>\n",
              "<table border=\"1\" class=\"dataframe\">\n",
              "  <thead>\n",
              "    <tr style=\"text-align: right;\">\n",
              "      <th></th>\n",
              "      <th>Invoice ID</th>\n",
              "      <th>Branch</th>\n",
              "      <th>City</th>\n",
              "      <th>Customer type</th>\n",
              "      <th>Gender</th>\n",
              "      <th>Product line</th>\n",
              "      <th>Unit price</th>\n",
              "      <th>Quantity</th>\n",
              "      <th>Date</th>\n",
              "      <th>Time</th>\n",
              "      <th>Payment</th>\n",
              "      <th>Rating</th>\n",
              "    </tr>\n",
              "  </thead>\n",
              "  <tbody>\n",
              "    <tr>\n",
              "      <th>0</th>\n",
              "      <td>750-67-8428</td>\n",
              "      <td>A</td>\n",
              "      <td>Yangon</td>\n",
              "      <td>Member</td>\n",
              "      <td>Female</td>\n",
              "      <td>Health and beauty</td>\n",
              "      <td>74.69</td>\n",
              "      <td>7</td>\n",
              "      <td>1/5/2019</td>\n",
              "      <td>13:08:00</td>\n",
              "      <td>Ewallet</td>\n",
              "      <td>9.1</td>\n",
              "    </tr>\n",
              "    <tr>\n",
              "      <th>1</th>\n",
              "      <td>226-31-3081</td>\n",
              "      <td>A</td>\n",
              "      <td>Naypyitaw</td>\n",
              "      <td>Normal</td>\n",
              "      <td>Female</td>\n",
              "      <td>Electronic accessories</td>\n",
              "      <td>15.28</td>\n",
              "      <td>5</td>\n",
              "      <td>3/8/2019</td>\n",
              "      <td>10:29:00</td>\n",
              "      <td>Cash</td>\n",
              "      <td>9.6</td>\n",
              "    </tr>\n",
              "    <tr>\n",
              "      <th>2</th>\n",
              "      <td>631-41-3108</td>\n",
              "      <td>A</td>\n",
              "      <td>Yangon</td>\n",
              "      <td>Normal</td>\n",
              "      <td>Male</td>\n",
              "      <td>Home and lifestyle</td>\n",
              "      <td>46.33</td>\n",
              "      <td>7</td>\n",
              "      <td>3/3/2019</td>\n",
              "      <td>13:23:00</td>\n",
              "      <td>Credit card</td>\n",
              "      <td>7.4</td>\n",
              "    </tr>\n",
              "    <tr>\n",
              "      <th>3</th>\n",
              "      <td>123-19-1176</td>\n",
              "      <td>B</td>\n",
              "      <td>Yangon</td>\n",
              "      <td>Member</td>\n",
              "      <td>Male</td>\n",
              "      <td>Health and beauty</td>\n",
              "      <td>58.22</td>\n",
              "      <td>8</td>\n",
              "      <td>1/27/2019</td>\n",
              "      <td>20:33:00</td>\n",
              "      <td>Ewallet</td>\n",
              "      <td>8.4</td>\n",
              "    </tr>\n",
              "    <tr>\n",
              "      <th>4</th>\n",
              "      <td>373-73-7910</td>\n",
              "      <td>C</td>\n",
              "      <td>Yangon</td>\n",
              "      <td>Normal</td>\n",
              "      <td>Male</td>\n",
              "      <td>Sports and travel</td>\n",
              "      <td>86.31</td>\n",
              "      <td>7</td>\n",
              "      <td>2/8/2019</td>\n",
              "      <td>10:37:00</td>\n",
              "      <td>Ewallet</td>\n",
              "      <td>5.3</td>\n",
              "    </tr>\n",
              "  </tbody>\n",
              "</table>\n",
              "</div>\n",
              "    <div class=\"colab-df-buttons\">\n",
              "\n",
              "  <div class=\"colab-df-container\">\n",
              "    <button class=\"colab-df-convert\" onclick=\"convertToInteractive('df-dd62c4f9-126b-4bce-8466-82fc66fa2c99')\"\n",
              "            title=\"Convert this dataframe to an interactive table.\"\n",
              "            style=\"display:none;\">\n",
              "\n",
              "  <svg xmlns=\"http://www.w3.org/2000/svg\" height=\"24px\" viewBox=\"0 -960 960 960\">\n",
              "    <path d=\"M120-120v-720h720v720H120Zm60-500h600v-160H180v160Zm220 220h160v-160H400v160Zm0 220h160v-160H400v160ZM180-400h160v-160H180v160Zm440 0h160v-160H620v160ZM180-180h160v-160H180v160Zm440 0h160v-160H620v160Z\"/>\n",
              "  </svg>\n",
              "    </button>\n",
              "\n",
              "  <style>\n",
              "    .colab-df-container {\n",
              "      display:flex;\n",
              "      gap: 12px;\n",
              "    }\n",
              "\n",
              "    .colab-df-convert {\n",
              "      background-color: #E8F0FE;\n",
              "      border: none;\n",
              "      border-radius: 50%;\n",
              "      cursor: pointer;\n",
              "      display: none;\n",
              "      fill: #1967D2;\n",
              "      height: 32px;\n",
              "      padding: 0 0 0 0;\n",
              "      width: 32px;\n",
              "    }\n",
              "\n",
              "    .colab-df-convert:hover {\n",
              "      background-color: #E2EBFA;\n",
              "      box-shadow: 0px 1px 2px rgba(60, 64, 67, 0.3), 0px 1px 3px 1px rgba(60, 64, 67, 0.15);\n",
              "      fill: #174EA6;\n",
              "    }\n",
              "\n",
              "    .colab-df-buttons div {\n",
              "      margin-bottom: 4px;\n",
              "    }\n",
              "\n",
              "    [theme=dark] .colab-df-convert {\n",
              "      background-color: #3B4455;\n",
              "      fill: #D2E3FC;\n",
              "    }\n",
              "\n",
              "    [theme=dark] .colab-df-convert:hover {\n",
              "      background-color: #434B5C;\n",
              "      box-shadow: 0px 1px 3px 1px rgba(0, 0, 0, 0.15);\n",
              "      filter: drop-shadow(0px 1px 2px rgba(0, 0, 0, 0.3));\n",
              "      fill: #FFFFFF;\n",
              "    }\n",
              "  </style>\n",
              "\n",
              "    <script>\n",
              "      const buttonEl =\n",
              "        document.querySelector('#df-dd62c4f9-126b-4bce-8466-82fc66fa2c99 button.colab-df-convert');\n",
              "      buttonEl.style.display =\n",
              "        google.colab.kernel.accessAllowed ? 'block' : 'none';\n",
              "\n",
              "      async function convertToInteractive(key) {\n",
              "        const element = document.querySelector('#df-dd62c4f9-126b-4bce-8466-82fc66fa2c99');\n",
              "        const dataTable =\n",
              "          await google.colab.kernel.invokeFunction('convertToInteractive',\n",
              "                                                    [key], {});\n",
              "        if (!dataTable) return;\n",
              "\n",
              "        const docLinkHtml = 'Like what you see? Visit the ' +\n",
              "          '<a target=\"_blank\" href=https://colab.research.google.com/notebooks/data_table.ipynb>data table notebook</a>'\n",
              "          + ' to learn more about interactive tables.';\n",
              "        element.innerHTML = '';\n",
              "        dataTable['output_type'] = 'display_data';\n",
              "        await google.colab.output.renderOutput(dataTable, element);\n",
              "        const docLink = document.createElement('div');\n",
              "        docLink.innerHTML = docLinkHtml;\n",
              "        element.appendChild(docLink);\n",
              "      }\n",
              "    </script>\n",
              "  </div>\n",
              "\n",
              "\n",
              "<div id=\"df-c90c912e-3299-4538-8702-7d9271be165e\">\n",
              "  <button class=\"colab-df-quickchart\" onclick=\"quickchart('df-c90c912e-3299-4538-8702-7d9271be165e')\"\n",
              "            title=\"Suggest charts\"\n",
              "            style=\"display:none;\">\n",
              "\n",
              "<svg xmlns=\"http://www.w3.org/2000/svg\" height=\"24px\"viewBox=\"0 0 24 24\"\n",
              "     width=\"24px\">\n",
              "    <g>\n",
              "        <path d=\"M19 3H5c-1.1 0-2 .9-2 2v14c0 1.1.9 2 2 2h14c1.1 0 2-.9 2-2V5c0-1.1-.9-2-2-2zM9 17H7v-7h2v7zm4 0h-2V7h2v10zm4 0h-2v-4h2v4z\"/>\n",
              "    </g>\n",
              "</svg>\n",
              "  </button>\n",
              "\n",
              "<style>\n",
              "  .colab-df-quickchart {\n",
              "      --bg-color: #E8F0FE;\n",
              "      --fill-color: #1967D2;\n",
              "      --hover-bg-color: #E2EBFA;\n",
              "      --hover-fill-color: #174EA6;\n",
              "      --disabled-fill-color: #AAA;\n",
              "      --disabled-bg-color: #DDD;\n",
              "  }\n",
              "\n",
              "  [theme=dark] .colab-df-quickchart {\n",
              "      --bg-color: #3B4455;\n",
              "      --fill-color: #D2E3FC;\n",
              "      --hover-bg-color: #434B5C;\n",
              "      --hover-fill-color: #FFFFFF;\n",
              "      --disabled-bg-color: #3B4455;\n",
              "      --disabled-fill-color: #666;\n",
              "  }\n",
              "\n",
              "  .colab-df-quickchart {\n",
              "    background-color: var(--bg-color);\n",
              "    border: none;\n",
              "    border-radius: 50%;\n",
              "    cursor: pointer;\n",
              "    display: none;\n",
              "    fill: var(--fill-color);\n",
              "    height: 32px;\n",
              "    padding: 0;\n",
              "    width: 32px;\n",
              "  }\n",
              "\n",
              "  .colab-df-quickchart:hover {\n",
              "    background-color: var(--hover-bg-color);\n",
              "    box-shadow: 0 1px 2px rgba(60, 64, 67, 0.3), 0 1px 3px 1px rgba(60, 64, 67, 0.15);\n",
              "    fill: var(--button-hover-fill-color);\n",
              "  }\n",
              "\n",
              "  .colab-df-quickchart-complete:disabled,\n",
              "  .colab-df-quickchart-complete:disabled:hover {\n",
              "    background-color: var(--disabled-bg-color);\n",
              "    fill: var(--disabled-fill-color);\n",
              "    box-shadow: none;\n",
              "  }\n",
              "\n",
              "  .colab-df-spinner {\n",
              "    border: 2px solid var(--fill-color);\n",
              "    border-color: transparent;\n",
              "    border-bottom-color: var(--fill-color);\n",
              "    animation:\n",
              "      spin 1s steps(1) infinite;\n",
              "  }\n",
              "\n",
              "  @keyframes spin {\n",
              "    0% {\n",
              "      border-color: transparent;\n",
              "      border-bottom-color: var(--fill-color);\n",
              "      border-left-color: var(--fill-color);\n",
              "    }\n",
              "    20% {\n",
              "      border-color: transparent;\n",
              "      border-left-color: var(--fill-color);\n",
              "      border-top-color: var(--fill-color);\n",
              "    }\n",
              "    30% {\n",
              "      border-color: transparent;\n",
              "      border-left-color: var(--fill-color);\n",
              "      border-top-color: var(--fill-color);\n",
              "      border-right-color: var(--fill-color);\n",
              "    }\n",
              "    40% {\n",
              "      border-color: transparent;\n",
              "      border-right-color: var(--fill-color);\n",
              "      border-top-color: var(--fill-color);\n",
              "    }\n",
              "    60% {\n",
              "      border-color: transparent;\n",
              "      border-right-color: var(--fill-color);\n",
              "    }\n",
              "    80% {\n",
              "      border-color: transparent;\n",
              "      border-right-color: var(--fill-color);\n",
              "      border-bottom-color: var(--fill-color);\n",
              "    }\n",
              "    90% {\n",
              "      border-color: transparent;\n",
              "      border-bottom-color: var(--fill-color);\n",
              "    }\n",
              "  }\n",
              "</style>\n",
              "\n",
              "  <script>\n",
              "    async function quickchart(key) {\n",
              "      const quickchartButtonEl =\n",
              "        document.querySelector('#' + key + ' button');\n",
              "      quickchartButtonEl.disabled = true;  // To prevent multiple clicks.\n",
              "      quickchartButtonEl.classList.add('colab-df-spinner');\n",
              "      try {\n",
              "        const charts = await google.colab.kernel.invokeFunction(\n",
              "            'suggestCharts', [key], {});\n",
              "      } catch (error) {\n",
              "        console.error('Error during call to suggestCharts:', error);\n",
              "      }\n",
              "      quickchartButtonEl.classList.remove('colab-df-spinner');\n",
              "      quickchartButtonEl.classList.add('colab-df-quickchart-complete');\n",
              "    }\n",
              "    (() => {\n",
              "      let quickchartButtonEl =\n",
              "        document.querySelector('#df-c90c912e-3299-4538-8702-7d9271be165e button');\n",
              "      quickchartButtonEl.style.display =\n",
              "        google.colab.kernel.accessAllowed ? 'block' : 'none';\n",
              "    })();\n",
              "  </script>\n",
              "</div>\n",
              "\n",
              "    </div>\n",
              "  </div>\n"
            ],
            "application/vnd.google.colaboratory.intrinsic+json": {
              "type": "dataframe",
              "variable_name": "df",
              "summary": "{\n  \"name\": \"df\",\n  \"rows\": 1000,\n  \"fields\": [\n    {\n      \"column\": \"Invoice ID\",\n      \"properties\": {\n        \"dtype\": \"string\",\n        \"num_unique_values\": 1000,\n        \"samples\": [\n          \"451-28-5717\",\n          \"137-63-5492\",\n          \"733-29-1227\"\n        ],\n        \"semantic_type\": \"\",\n        \"description\": \"\"\n      }\n    },\n    {\n      \"column\": \"Branch\",\n      \"properties\": {\n        \"dtype\": \"category\",\n        \"num_unique_values\": 3,\n        \"samples\": [\n          \"A\",\n          \"B\",\n          \"C\"\n        ],\n        \"semantic_type\": \"\",\n        \"description\": \"\"\n      }\n    },\n    {\n      \"column\": \"City\",\n      \"properties\": {\n        \"dtype\": \"category\",\n        \"num_unique_values\": 3,\n        \"samples\": [\n          \"Yangon\",\n          \"Naypyitaw\",\n          \"Mandalay\"\n        ],\n        \"semantic_type\": \"\",\n        \"description\": \"\"\n      }\n    },\n    {\n      \"column\": \"Customer type\",\n      \"properties\": {\n        \"dtype\": \"category\",\n        \"num_unique_values\": 2,\n        \"samples\": [\n          \"Normal\",\n          \"Member\"\n        ],\n        \"semantic_type\": \"\",\n        \"description\": \"\"\n      }\n    },\n    {\n      \"column\": \"Gender\",\n      \"properties\": {\n        \"dtype\": \"category\",\n        \"num_unique_values\": 2,\n        \"samples\": [\n          \"Male\",\n          \"Female\"\n        ],\n        \"semantic_type\": \"\",\n        \"description\": \"\"\n      }\n    },\n    {\n      \"column\": \"Product line\",\n      \"properties\": {\n        \"dtype\": \"category\",\n        \"num_unique_values\": 6,\n        \"samples\": [\n          \"Health and beauty\",\n          \"Electronic accessories\"\n        ],\n        \"semantic_type\": \"\",\n        \"description\": \"\"\n      }\n    },\n    {\n      \"column\": \"Unit price\",\n      \"properties\": {\n        \"dtype\": \"number\",\n        \"std\": 26.494628347919768,\n        \"min\": 10.08,\n        \"max\": 99.96,\n        \"num_unique_values\": 943,\n        \"samples\": [\n          12.45,\n          70.74\n        ],\n        \"semantic_type\": \"\",\n        \"description\": \"\"\n      }\n    },\n    {\n      \"column\": \"Quantity\",\n      \"properties\": {\n        \"dtype\": \"number\",\n        \"std\": 2,\n        \"min\": 1,\n        \"max\": 10,\n        \"num_unique_values\": 10,\n        \"samples\": [\n          1,\n          5\n        ],\n        \"semantic_type\": \"\",\n        \"description\": \"\"\n      }\n    },\n    {\n      \"column\": \"Date\",\n      \"properties\": {\n        \"dtype\": \"object\",\n        \"num_unique_values\": 89,\n        \"samples\": [\n          \"2/14/2019\",\n          \"1/26/2019\"\n        ],\n        \"semantic_type\": \"\",\n        \"description\": \"\"\n      }\n    },\n    {\n      \"column\": \"Time\",\n      \"properties\": {\n        \"dtype\": \"string\",\n        \"num_unique_values\": 506,\n        \"samples\": [\n          \"10:13:00\",\n          \"11:21:00\"\n        ],\n        \"semantic_type\": \"\",\n        \"description\": \"\"\n      }\n    },\n    {\n      \"column\": \"Payment\",\n      \"properties\": {\n        \"dtype\": \"category\",\n        \"num_unique_values\": 3,\n        \"samples\": [\n          \"Ewallet\",\n          \"Cash\"\n        ],\n        \"semantic_type\": \"\",\n        \"description\": \"\"\n      }\n    },\n    {\n      \"column\": \"Rating\",\n      \"properties\": {\n        \"dtype\": \"number\",\n        \"std\": 1.718580294379123,\n        \"min\": 4.0,\n        \"max\": 10.0,\n        \"num_unique_values\": 61,\n        \"samples\": [\n          9.1,\n          4.1\n        ],\n        \"semantic_type\": \"\",\n        \"description\": \"\"\n      }\n    }\n  ]\n}"
            }
          },
          "metadata": {},
          "execution_count": 36
        }
      ]
    },
    {
      "cell_type": "code",
      "source": [
        "\n",
        "print(df.info())\n"
      ],
      "metadata": {
        "colab": {
          "base_uri": "https://localhost:8080/"
        },
        "id": "n-3Sd8zFndM-",
        "outputId": "8021aa30-7d76-4cc6-be74-1b6a6b5f65c3"
      },
      "execution_count": 37,
      "outputs": [
        {
          "output_type": "stream",
          "name": "stdout",
          "text": [
            "<class 'pandas.core.frame.DataFrame'>\n",
            "RangeIndex: 1000 entries, 0 to 999\n",
            "Data columns (total 12 columns):\n",
            " #   Column         Non-Null Count  Dtype  \n",
            "---  ------         --------------  -----  \n",
            " 0   Invoice ID     1000 non-null   object \n",
            " 1   Branch         1000 non-null   object \n",
            " 2   City           1000 non-null   object \n",
            " 3   Customer type  1000 non-null   object \n",
            " 4   Gender         1000 non-null   object \n",
            " 5   Product line   1000 non-null   object \n",
            " 6   Unit price     1000 non-null   float64\n",
            " 7   Quantity       1000 non-null   int64  \n",
            " 8   Date           1000 non-null   object \n",
            " 9   Time           1000 non-null   object \n",
            " 10  Payment        1000 non-null   object \n",
            " 11  Rating         1000 non-null   float64\n",
            "dtypes: float64(2), int64(1), object(9)\n",
            "memory usage: 93.9+ KB\n",
            "None\n"
          ]
        }
      ]
    },
    {
      "cell_type": "code",
      "source": [
        "print(\"Missing values:\\n\", df.isnull().sum())"
      ],
      "metadata": {
        "colab": {
          "base_uri": "https://localhost:8080/"
        },
        "id": "hdQPR9ZxGPj2",
        "outputId": "37fce639-9067-464f-c347-ef68b9fff1e0"
      },
      "execution_count": 38,
      "outputs": [
        {
          "output_type": "stream",
          "name": "stdout",
          "text": [
            "Missing values:\n",
            " Invoice ID       0\n",
            "Branch           0\n",
            "City             0\n",
            "Customer type    0\n",
            "Gender           0\n",
            "Product line     0\n",
            "Unit price       0\n",
            "Quantity         0\n",
            "Date             0\n",
            "Time             0\n",
            "Payment          0\n",
            "Rating           0\n",
            "dtype: int64\n"
          ]
        }
      ]
    },
    {
      "cell_type": "code",
      "source": [
        "# A. Analyze the performance of sales and revenue at the city and branch level\n",
        "\n",
        "# total sales (revenue) for each transaction\n",
        "df['Total'] = df['Unit price'] * df['Quantity']\n",
        "\n",
        "# Group by City and Branch and calculate the total revenue\n",
        "sales_by_city_branch = df.groupby(['City', 'Branch'])['Total'].sum().reset_index()\n",
        "print(\"Sales and Revenue by City and Branch:\")\n",
        "print(sales_by_city_branch)\n"
      ],
      "metadata": {
        "colab": {
          "base_uri": "https://localhost:8080/"
        },
        "id": "_D7PpJxdnogJ",
        "outputId": "eb08a2ab-584e-4d2d-8658-c939038d8fb0"
      },
      "execution_count": 39,
      "outputs": [
        {
          "output_type": "stream",
          "name": "stdout",
          "text": [
            "Sales and Revenue by City and Branch:\n",
            "        City Branch     Total\n",
            "0   Mandalay      A  34130.09\n",
            "1   Mandalay      B  37215.93\n",
            "2   Mandalay      C  29794.62\n",
            "3  Naypyitaw      A  35985.64\n",
            "4  Naypyitaw      B  35157.75\n",
            "5  Naypyitaw      C  34160.14\n",
            "6     Yangon      A  33647.27\n",
            "7     Yangon      B  35193.51\n",
            "8     Yangon      C  32302.43\n"
          ]
        }
      ]
    },
    {
      "cell_type": "code",
      "source": [
        "# sales and revenue by city and branch\n",
        "plt.figure(figsize=(12, 6))\n",
        "sns.barplot(data=sales_by_city_branch, x='City', y='Total', hue='Branch')\n",
        "plt.title('Sales and Revenue by City and Branch')\n",
        "plt.xlabel('City')\n",
        "plt.ylabel('Total Sales Revenue')\n",
        "plt.legend(title='Branch')\n",
        "plt.xticks(rotation=45)\n",
        "plt.show()\n"
      ],
      "metadata": {
        "colab": {
          "base_uri": "https://localhost:8080/",
          "height": 515
        },
        "id": "SSIhzkOioU8S",
        "outputId": "a5dba348-8e68-485c-b3e5-39bb67954d2c"
      },
      "execution_count": 40,
      "outputs": [
        {
          "output_type": "display_data",
          "data": {
            "text/plain": [
              "<Figure size 1200x600 with 1 Axes>"
            ],
            "image/png": "[encoded data removed]"
          },
          "metadata": {}
        }
      ]
    },
    {
      "cell_type": "code",
      "source": [
        "# What is the average price of an item sold at each branch of the city ?\n",
        "\n",
        "average_price_per_branch_city = df.groupby(['City', 'Branch'])['Unit price'].mean().reset_index()\n",
        "average_price_per_branch_city.rename(columns={'Unit price': 'Average Unit Price'}, inplace=True)\n",
        "print(average_price_per_branch_city)"
      ],
      "metadata": {
        "colab": {
          "base_uri": "https://localhost:8080/"
        },
        "id": "hNquMMuvoFeh",
        "outputId": "fb88643d-38cd-4c64-eb24-d9d27f7c13ce"
      },
      "execution_count": 41,
      "outputs": [
        {
          "output_type": "stream",
          "name": "stdout",
          "text": [
            "        City Branch  Average Unit Price\n",
            "0   Mandalay      A           53.353866\n",
            "1   Mandalay      B           56.133305\n",
            "2   Mandalay      C           57.958316\n",
            "3  Naypyitaw      A           54.123182\n",
            "4  Naypyitaw      B           57.785688\n",
            "5  Naypyitaw      C           57.941009\n",
            "6     Yangon      A           55.639298\n",
            "7     Yangon      B           56.011062\n",
            "8     Yangon      C           52.684602\n"
          ]
        }
      ]
    },
    {
      "cell_type": "markdown",
      "source": [
        "The table presents data on the average unit price across different branches (A, B, and C) in three cities: Mandalay, Naypyitaw, and Yangon. In Mandalay, Branch A has an average unit price of 53.35, Branch B is slightly higher at 56.13, and Branch C has the highest in the city at 57.96. For Naypyitaw, Branch A’s average unit price is 54.12, Branch B rises to 57.79, and Branch C closely follows at 57.94. In Yangon, Branch A’s average price is 55.64, Branch B shows a similar rate at 56.01, while Branch C has a lower average unit price of 52.68."
      ],
      "metadata": {
        "id": "_ol15JzOcsqG"
      }
    },
    {
      "cell_type": "code",
      "source": [
        "plt.figure(figsize=(12, 6))\n",
        "sns.barplot(data=average_price_per_branch_city, x='City', y='Average Unit Price', hue='Branch')\n",
        "plt.title(\"Average Price of Items Sold per Branch in Each City\")\n",
        "plt.xlabel(\"City\")\n",
        "plt.ylabel(\"Average Unit Price\")\n",
        "plt.legend(title=\"Branch\")\n",
        "plt.xticks(rotation=45)\n",
        "plt.tight_layout()\n",
        "plt.show()"
      ],
      "metadata": {
        "colab": {
          "base_uri": "https://localhost:8080/",
          "height": 442
        },
        "id": "W1KyqwDPp4Zc",
        "outputId": "0870567d-e219-46aa-db5e-96d430eb237e"
      },
      "execution_count": 42,
      "outputs": [
        {
          "output_type": "display_data",
          "data": {
            "text/plain": [
              "<Figure size 1200x600 with 1 Axes>"
            ],
            "image/png": "[encoded data removed]"
          },
          "metadata": {}
        }
      ]
    },
    {
      "cell_type": "code",
      "source": [
        "# Convert Date column to datetime format\n",
        "df['Date'] = pd.to_datetime(df['Date'])\n",
        "df['Month'] = df['Date'].dt.to_period('M')\n",
        "df[['Date', 'Month']].head()\n"
      ],
      "metadata": {
        "colab": {
          "base_uri": "https://localhost:8080/",
          "height": 206
        },
        "id": "2yn-6MNnorOV",
        "outputId": "64f6a91f-639d-4a0b-b0ba-49279fcdc40b"
      },
      "execution_count": 43,
      "outputs": [
        {
          "output_type": "execute_result",
          "data": {
            "text/plain": [
              "        Date    Month\n",
              "0 2019-01-05  2019-01\n",
              "1 2019-03-08  2019-03\n",
              "2 2019-03-03  2019-03\n",
              "3 2019-01-27  2019-01\n",
              "4 2019-02-08  2019-02"
            ],
            "text/html": [
              "\n",
              "  <div id=\"df-5aafb96d-0426-447b-aa08-671937167777\" class=\"colab-df-container\">\n",
              "    <div>\n",
              "<style scoped>\n",
              "    .dataframe tbody tr th:only-of-type {\n",
              "        vertical-align: middle;\n",
              "    }\n",
              "\n",
              "    .dataframe tbody tr th {\n",
              "        vertical-align: top;\n",
              "    }\n",
              "\n",
              "    .dataframe thead th {\n",
              "        text-align: right;\n",
              "    }\n",
              "</style>\n",
              "<table border=\"1\" class=\"dataframe\">\n",
              "  <thead>\n",
              "    <tr style=\"text-align: right;\">\n",
              "      <th></th>\n",
              "      <th>Date</th>\n",
              "      <th>Month</th>\n",
              "    </tr>\n",
              "  </thead>\n",
              "  <tbody>\n",
              "    <tr>\n",
              "      <th>0</th>\n",
              "      <td>2019-01-05</td>\n",
              "      <td>2019-01</td>\n",
              "    </tr>\n",
              "    <tr>\n",
              "      <th>1</th>\n",
              "      <td>2019-03-08</td>\n",
              "      <td>2019-03</td>\n",
              "    </tr>\n",
              "    <tr>\n",
              "      <th>2</th>\n",
              "      <td>2019-03-03</td>\n",
              "      <td>2019-03</td>\n",
              "    </tr>\n",
              "    <tr>\n",
              "      <th>3</th>\n",
              "      <td>2019-01-27</td>\n",
              "      <td>2019-01</td>\n",
              "    </tr>\n",
              "    <tr>\n",
              "      <th>4</th>\n",
              "      <td>2019-02-08</td>\n",
              "      <td>2019-02</td>\n",
              "    </tr>\n",
              "  </tbody>\n",
              "</table>\n",
              "</div>\n",
              "    <div class=\"colab-df-buttons\">\n",
              "\n",
              "  <div class=\"colab-df-container\">\n",
              "    <button class=\"colab-df-convert\" onclick=\"convertToInteractive('df-5aafb96d-0426-447b-aa08-671937167777')\"\n",
              "            title=\"Convert this dataframe to an interactive table.\"\n",
              "            style=\"display:none;\">\n",
              "\n",
              "  <svg xmlns=\"http://www.w3.org/2000/svg\" height=\"24px\" viewBox=\"0 -960 960 960\">\n",
              "    <path d=\"M120-120v-720h720v720H120Zm60-500h600v-160H180v160Zm220 220h160v-160H400v160Zm0 220h160v-160H400v160ZM180-400h160v-160H180v160Zm440 0h160v-160H620v160ZM180-180h160v-160H180v160Zm440 0h160v-160H620v160Z\"/>\n",
              "  </svg>\n",
              "    </button>\n",
              "\n",
              "  <style>\n",
              "    .colab-df-container {\n",
              "      display:flex;\n",
              "      gap: 12px;\n",
              "    }\n",
              "\n",
              "    .colab-df-convert {\n",
              "      background-color: #E8F0FE;\n",
              "      border: none;\n",
              "      border-radius: 50%;\n",
              "      cursor: pointer;\n",
              "      display: none;\n",
              "      fill: #1967D2;\n",
              "      height: 32px;\n",
              "      padding: 0 0 0 0;\n",
              "      width: 32px;\n",
              "    }\n",
              "\n",
              "    .colab-df-convert:hover {\n",
              "      background-color: #E2EBFA;\n",
              "      box-shadow: 0px 1px 2px rgba(60, 64, 67, 0.3), 0px 1px 3px 1px rgba(60, 64, 67, 0.15);\n",
              "      fill: #174EA6;\n",
              "    }\n",
              "\n",
              "    .colab-df-buttons div {\n",
              "      margin-bottom: 4px;\n",
              "    }\n",
              "\n",
              "    [theme=dark] .colab-df-convert {\n",
              "      background-color: #3B4455;\n",
              "      fill: #D2E3FC;\n",
              "    }\n",
              "\n",
              "    [theme=dark] .colab-df-convert:hover {\n",
              "      background-color: #434B5C;\n",
              "      box-shadow: 0px 1px 3px 1px rgba(0, 0, 0, 0.15);\n",
              "      filter: drop-shadow(0px 1px 2px rgba(0, 0, 0, 0.3));\n",
              "      fill: #FFFFFF;\n",
              "    }\n",
              "  </style>\n",
              "\n",
              "    <script>\n",
              "      const buttonEl =\n",
              "        document.querySelector('#df-5aafb96d-0426-447b-aa08-671937167777 button.colab-df-convert');\n",
              "      buttonEl.style.display =\n",
              "        google.colab.kernel.accessAllowed ? 'block' : 'none';\n",
              "\n",
              "      async function convertToInteractive(key) {\n",
              "        const element = document.querySelector('#df-5aafb96d-0426-447b-aa08-671937167777');\n",
              "        const dataTable =\n",
              "          await google.colab.kernel.invokeFunction('convertToInteractive',\n",
              "                                                    [key], {});\n",
              "        if (!dataTable) return;\n",
              "\n",
              "        const docLinkHtml = 'Like what you see? Visit the ' +\n",
              "          '<a target=\"_blank\" href=https://colab.research.google.com/notebooks/data_table.ipynb>data table notebook</a>'\n",
              "          + ' to learn more about interactive tables.';\n",
              "        element.innerHTML = '';\n",
              "        dataTable['output_type'] = 'display_data';\n",
              "        await google.colab.output.renderOutput(dataTable, element);\n",
              "        const docLink = document.createElement('div');\n",
              "        docLink.innerHTML = docLinkHtml;\n",
              "        element.appendChild(docLink);\n",
              "      }\n",
              "    </script>\n",
              "  </div>\n",
              "\n",
              "\n",
              "<div id=\"df-346b32be-77f2-4902-acbf-ffe6add0bea6\">\n",
              "  <button class=\"colab-df-quickchart\" onclick=\"quickchart('df-346b32be-77f2-4902-acbf-ffe6add0bea6')\"\n",
              "            title=\"Suggest charts\"\n",
              "            style=\"display:none;\">\n",
              "\n",
              "<svg xmlns=\"http://www.w3.org/2000/svg\" height=\"24px\"viewBox=\"0 0 24 24\"\n",
              "     width=\"24px\">\n",
              "    <g>\n",
              "        <path d=\"M19 3H5c-1.1 0-2 .9-2 2v14c0 1.1.9 2 2 2h14c1.1 0 2-.9 2-2V5c0-1.1-.9-2-2-2zM9 17H7v-7h2v7zm4 0h-2V7h2v10zm4 0h-2v-4h2v4z\"/>\n",
              "    </g>\n",
              "</svg>\n",
              "  </button>\n",
              "\n",
              "<style>\n",
              "  .colab-df-quickchart {\n",
              "      --bg-color: #E8F0FE;\n",
              "      --fill-color: #1967D2;\n",
              "      --hover-bg-color: #E2EBFA;\n",
              "      --hover-fill-color: #174EA6;\n",
              "      --disabled-fill-color: #AAA;\n",
              "      --disabled-bg-color: #DDD;\n",
              "  }\n",
              "\n",
              "  [theme=dark] .colab-df-quickchart {\n",
              "      --bg-color: #3B4455;\n",
              "      --fill-color: #D2E3FC;\n",
              "      --hover-bg-color: #434B5C;\n",
              "      --hover-fill-color: #FFFFFF;\n",
              "      --disabled-bg-color: #3B4455;\n",
              "      --disabled-fill-color: #666;\n",
              "  }\n",
              "\n",
              "  .colab-df-quickchart {\n",
              "    background-color: var(--bg-color);\n",
              "    border: none;\n",
              "    border-radius: 50%;\n",
              "    cursor: pointer;\n",
              "    display: none;\n",
              "    fill: var(--fill-color);\n",
              "    height: 32px;\n",
              "    padding: 0;\n",
              "    width: 32px;\n",
              "  }\n",
              "\n",
              "  .colab-df-quickchart:hover {\n",
              "    background-color: var(--hover-bg-color);\n",
              "    box-shadow: 0 1px 2px rgba(60, 64, 67, 0.3), 0 1px 3px 1px rgba(60, 64, 67, 0.15);\n",
              "    fill: var(--button-hover-fill-color);\n",
              "  }\n",
              "\n",
              "  .colab-df-quickchart-complete:disabled,\n",
              "  .colab-df-quickchart-complete:disabled:hover {\n",
              "    background-color: var(--disabled-bg-color);\n",
              "    fill: var(--disabled-fill-color);\n",
              "    box-shadow: none;\n",
              "  }\n",
              "\n",
              "  .colab-df-spinner {\n",
              "    border: 2px solid var(--fill-color);\n",
              "    border-color: transparent;\n",
              "    border-bottom-color: var(--fill-color);\n",
              "    animation:\n",
              "      spin 1s steps(1) infinite;\n",
              "  }\n",
              "\n",
              "  @keyframes spin {\n",
              "    0% {\n",
              "      border-color: transparent;\n",
              "      border-bottom-color: var(--fill-color);\n",
              "      border-left-color: var(--fill-color);\n",
              "    }\n",
              "    20% {\n",
              "      border-color: transparent;\n",
              "      border-left-color: var(--fill-color);\n",
              "      border-top-color: var(--fill-color);\n",
              "    }\n",
              "    30% {\n",
              "      border-color: transparent;\n",
              "      border-left-color: var(--fill-color);\n",
              "      border-top-color: var(--fill-color);\n",
              "      border-right-color: var(--fill-color);\n",
              "    }\n",
              "    40% {\n",
              "      border-color: transparent;\n",
              "      border-right-color: var(--fill-color);\n",
              "      border-top-color: var(--fill-color);\n",
              "    }\n",
              "    60% {\n",
              "      border-color: transparent;\n",
              "      border-right-color: var(--fill-color);\n",
              "    }\n",
              "    80% {\n",
              "      border-color: transparent;\n",
              "      border-right-color: var(--fill-color);\n",
              "      border-bottom-color: var(--fill-color);\n",
              "    }\n",
              "    90% {\n",
              "      border-color: transparent;\n",
              "      border-bottom-color: var(--fill-color);\n",
              "    }\n",
              "  }\n",
              "</style>\n",
              "\n",
              "  <script>\n",
              "    async function quickchart(key) {\n",
              "      const quickchartButtonEl =\n",
              "        document.querySelector('#' + key + ' button');\n",
              "      quickchartButtonEl.disabled = true;  // To prevent multiple clicks.\n",
              "      quickchartButtonEl.classList.add('colab-df-spinner');\n",
              "      try {\n",
              "        const charts = await google.colab.kernel.invokeFunction(\n",
              "            'suggestCharts', [key], {});\n",
              "      } catch (error) {\n",
              "        console.error('Error during call to suggestCharts:', error);\n",
              "      }\n",
              "      quickchartButtonEl.classList.remove('colab-df-spinner');\n",
              "      quickchartButtonEl.classList.add('colab-df-quickchart-complete');\n",
              "    }\n",
              "    (() => {\n",
              "      let quickchartButtonEl =\n",
              "        document.querySelector('#df-346b32be-77f2-4902-acbf-ffe6add0bea6 button');\n",
              "      quickchartButtonEl.style.display =\n",
              "        google.colab.kernel.accessAllowed ? 'block' : 'none';\n",
              "    })();\n",
              "  </script>\n",
              "</div>\n",
              "\n",
              "    </div>\n",
              "  </div>\n"
            ],
            "application/vnd.google.colaboratory.intrinsic+json": {
              "type": "dataframe",
              "summary": "{\n  \"name\": \"df[['Date', 'Month']]\",\n  \"rows\": 5,\n  \"fields\": [\n    {\n      \"column\": \"Date\",\n      \"properties\": {\n        \"dtype\": \"date\",\n        \"min\": \"2019-01-05 00:00:00\",\n        \"max\": \"2019-03-08 00:00:00\",\n        \"num_unique_values\": 5,\n        \"samples\": [\n          \"2019-03-08 00:00:00\",\n          \"2019-02-08 00:00:00\",\n          \"2019-03-03 00:00:00\"\n        ],\n        \"semantic_type\": \"\",\n        \"description\": \"\"\n      }\n    },\n    {\n      \"column\": \"Month\",\n      \"properties\": {\n        \"dtype\": \"period[M]\",\n        \"num_unique_values\": 3,\n        \"samples\": [\n          \"2019-01\",\n          \"2019-03\",\n          \"2019-02\"\n        ],\n        \"semantic_type\": \"\",\n        \"description\": \"\"\n      }\n    }\n  ]\n}"
            }
          },
          "metadata": {},
          "execution_count": 43
        }
      ]
    },
    {
      "cell_type": "code",
      "source": [
        "#  Analyze the performance of sales and revenue, Month over Month across the Product line, Gender, and Payment Method.\n",
        "\n",
        "monthly_sales_by_product = df.groupby(['Month','Gender','Payment','Product line'])['Total'].sum().reset_index()\n",
        "print(\"Monthly Sales:\")\n",
        "print(monthly_sales_by_product)\n"
      ],
      "metadata": {
        "colab": {
          "base_uri": "https://localhost:8080/"
        },
        "id": "WuznFecbV3iS",
        "outputId": "ba17ccbc-b439-49e1-d2a2-a873e9434936"
      },
      "execution_count": 44,
      "outputs": [
        {
          "output_type": "stream",
          "name": "stdout",
          "text": [
            "Monthly Sales:\n",
            "       Month  Gender  Payment            Product line    Total\n",
            "0    2019-01  Female     Cash  Electronic accessories  2731.86\n",
            "1    2019-01  Female     Cash     Fashion accessories  3845.24\n",
            "2    2019-01  Female     Cash      Food and beverages  5197.05\n",
            "3    2019-01  Female     Cash       Health and beauty   878.27\n",
            "4    2019-01  Female     Cash      Home and lifestyle  3618.80\n",
            "..       ...     ...      ...                     ...      ...\n",
            "103  2019-03    Male  Ewallet     Fashion accessories  2486.70\n",
            "104  2019-03    Male  Ewallet      Food and beverages  2996.20\n",
            "105  2019-03    Male  Ewallet       Health and beauty  3841.42\n",
            "106  2019-03    Male  Ewallet      Home and lifestyle  3200.86\n",
            "107  2019-03    Male  Ewallet       Sports and travel  4930.61\n",
            "\n",
            "[108 rows x 5 columns]\n"
          ]
        }
      ]
    },
    {
      "cell_type": "code",
      "source": [
        "\n",
        "df[\"Month\"] = pd.to_datetime(df['Date']).dt.to_period('M')\n",
        "\n",
        "# Revenue\n",
        "df['Revenue'] = df[\"Quantity\"] * df[\"Unit price\"]\n",
        "\n",
        "# Monthly analysis\n",
        "monthly_analysis = df.groupby([\"Month\", \"Product line\", \"Gender\", \"Payment\"]).agg(\n",
        "    Quantity=('Quantity', \"sum\"),\n",
        "    Revenue=('Revenue', \"sum\")\n",
        ").reset_index()\n",
        "\n",
        "# Top performing categories\n",
        "top_categories = monthly_analysis.groupby(\"Product line\").agg(\n",
        "    Quantity=('Quantity', \"sum\"),\n",
        "    Revenue=('Revenue', \"sum\")\n",
        ").sort_values(by='Revenue', ascending=False)\n",
        "\n",
        "# Gender-based insights\n",
        "gender_insights = monthly_analysis.groupby('Gender').agg(\n",
        "    Quantity=('Quantity', 'sum'),\n",
        "    Revenue=('Revenue', 'sum')\n",
        ")\n",
        "\n",
        "# Payment method analysis\n",
        "payment_method_analysis = monthly_analysis.groupby(\"Payment\").agg(\n",
        "    Quantity=('Quantity', 'sum'),\n",
        "    Revenue=('Revenue', 'sum')\n",
        ")\n",
        "\n",
        "# Low performing categories\n",
        "low_performing_categories = monthly_analysis.groupby(\"Product line\").agg(\n",
        "    Quantity=('Quantity', 'sum'),\n",
        "    Revenue=('Revenue', 'sum')\n",
        ").sort_values(by=\"Revenue\").head(3)\n",
        "\n",
        "print(\"Top Performing Categories:\")\n",
        "print(top_categories)\n",
        "print(\"\\nGender-based Insights:\")\n",
        "print(gender_insights)\n",
        "print(\"\\nPayment Method Analysis:\")\n",
        "print(payment_method_analysis)\n",
        "print(\"\\nLow Performing Categories:\")\n",
        "print(low_performing_categories)\n"
      ],
      "metadata": {
        "colab": {
          "base_uri": "https://localhost:8080/"
        },
        "id": "AptcqDhyqVXp",
        "outputId": "3162e671-cd32-470b-efa4-219375ae39a5"
      },
      "execution_count": 34,
      "outputs": [
        {
          "output_type": "stream",
          "name": "stdout",
          "text": [
            "Top Performing Categories:\n",
            "                        Quantity   Revenue\n",
            "Product line                              \n",
            "Food and beverages           952  53471.28\n",
            "Sports and travel            920  52497.93\n",
            "Electronic accessories       971  51750.03\n",
            "Fashion accessories          902  51719.90\n",
            "Home and lifestyle           911  51297.06\n",
            "Health and beauty            854  46851.18\n",
            "\n",
            "Gender-based Insights:\n",
            "        Quantity    Revenue\n",
            "Gender                     \n",
            "Female      2869  159888.50\n",
            "Male        2641  147698.88\n",
            "\n",
            "Payment Method Analysis:\n",
            "             Quantity    Revenue\n",
            "Payment                         \n",
            "Cash             1896  106863.40\n",
            "Credit card      1722   95968.64\n",
            "Ewallet          1892  104755.34\n",
            "\n",
            "Low Performing Categories:\n",
            "                     Quantity   Revenue\n",
            "Product line                           \n",
            "Health and beauty         854  46851.18\n",
            "Home and lifestyle        911  51297.06\n",
            "Fashion accessories       902  51719.90\n"
          ]
        }
      ]
    },
    {
      "cell_type": "code",
      "source": [
        "#  average sales by gender and city\n",
        "demographic_sales = df.groupby(['Gender', 'City'])['Total'].mean().reset_index()\n",
        "\n",
        "# gender and city for targeted insights\n",
        "print(\"Sales by Gender and City:\")\n",
        "print(demographic_sales)\n"
      ],
      "metadata": {
        "colab": {
          "base_uri": "https://localhost:8080/"
        },
        "id": "WFbAoJz0fh_l",
        "outputId": "dcf59f75-142b-47db-9be0-9a295e4a4416"
      },
      "execution_count": null,
      "outputs": [
        {
          "output_type": "stream",
          "name": "stdout",
          "text": [
            "Sales by Gender and City:\n",
            "   Gender       City       Total\n",
            "0  Female   Mandalay  311.159877\n",
            "1  Female  Naypyitaw  330.045281\n",
            "2  Female     Yangon  315.108944\n",
            "3    Male   Mandalay  298.427882\n",
            "4    Male  Naypyitaw  310.369800\n",
            "5    Male     Yangon  281.623855\n"
          ]
        }
      ]
    },
    {
      "cell_type": "markdown",
      "source": [
        "In April 2019, it is recommended to focus sales efforts on the cities of Mandalay and Naypyitaw, as they demonstrate strong performance among both genders. Female sales in Naypyitaw lead at 330.05, indicating a robust market potential, while male sales in Mandalay are also competitive at 298.43. Strategies should be tailored to leverage these strengths, such as targeted marketing campaigns or promotional events that resonate with the local demographics. Additionally, exploring the unique preferences of consumers in Yangon could uncover untapped opportunities, particularly as female sales in this city are relatively high at 315.11. Overall, emphasizing engagement in Mandalay and Naypyitaw while monitoring trends in Yangon could optimize sales outcomes."
      ],
      "metadata": {
        "id": "H8X91iVei8s6"
      }
    },
    {
      "cell_type": "code",
      "source": [
        "# Popular Product Combinations for Bundling\n",
        "popular_combinations = df.groupby(['Invoice ID', 'Product line']).size().reset_index(name='Count')\n",
        "popular_combinations = popular_combinations.groupby('Product line')['Count'].sum().reset_index()\n",
        "popular_combinations = popular_combinations.sort_values(by='Count', ascending=False)\n",
        "\n",
        "print(\"Popular Product Combinations for Bundling:\")\n",
        "print(popular_combinations.head())\n"
      ],
      "metadata": {
        "colab": {
          "base_uri": "https://localhost:8080/"
        },
        "id": "yBPuzGbEf1mW",
        "outputId": "e0471de8-8dcf-4396-91c4-36436c88bae4"
      },
      "execution_count": null,
      "outputs": [
        {
          "output_type": "stream",
          "name": "stdout",
          "text": [
            "Popular Product Combinations for Bundling:\n",
            "             Product line  Count\n",
            "1     Fashion accessories    178\n",
            "2      Food and beverages    174\n",
            "0  Electronic accessories    170\n",
            "5       Sports and travel    166\n",
            "4      Home and lifestyle    160\n"
          ]
        }
      ]
    },
    {
      "cell_type": "markdown",
      "source": [
        "For April 2019, a strategic bundling approach can focus on the most popular product combinations from our analysis. Given the high demand for fashion accessories (178), food and beverages (174), and electronic accessories (170), we should create attractive bundles that incorporate these categories. For instance, a \"Spring Essentials\" bundle could combine trendy fashion accessories with gourmet snacks and must-have electronic gadgets, appealing to customers looking for stylish yet practical purchases. Additionally, integrating sports and travel items (166) into our promotions would attract outdoor enthusiasts gearing up for spring adventures. By leveraging these popular combinations, we can enhance customer satisfaction and drive sales effectively."
      ],
      "metadata": {
        "id": "NYqMtnImid5R"
      }
    },
    {
      "cell_type": "code",
      "source": [
        "# Best Selling Product Lines for Promotion\n",
        "best_sellers = df.groupby('Product line')['Total'].sum().reset_index()\n",
        "best_sellers = best_sellers.sort_values(by='Total', ascending=False)\n",
        "\n",
        "print(\"Best-Selling Product Lines for Promotion:\")\n",
        "print(best_sellers.head())\n"
      ],
      "metadata": {
        "colab": {
          "base_uri": "https://localhost:8080/"
        },
        "id": "iwGQhp2Ifti5",
        "outputId": "0a17cd3c-4e71-4e01-df4c-4ef0348cd791"
      },
      "execution_count": null,
      "outputs": [
        {
          "output_type": "stream",
          "name": "stdout",
          "text": [
            "Best-Selling Product Lines for Promotion:\n",
            "             Product line     Total\n",
            "2      Food and beverages  53471.28\n",
            "5       Sports and travel  52497.93\n",
            "0  Electronic accessories  51750.03\n",
            "1     Fashion accessories  51719.90\n",
            "4      Home and lifestyle  51297.06\n"
          ]
        }
      ]
    },
    {
      "cell_type": "markdown",
      "source": [
        "For April 2019, the best promotion strategy would focus on the Food and Beverages product line, which generated a total of $53,471.28, making it the highest-selling category. Capitalizing on seasonal trends and upcoming holidays, such as Easter, can significantly boost sales. A well-crafted campaign that highlights special offers or discounts on popular food items can attract more customers. Additionally, pairing food products with complimentary items from the Sports and Travel line could entice shoppers planning for outdoor activities. Incorporating social media marketing and engaging content will further enhance visibility and drive customer interest. Overall, prioritizing Food and Beverages while leveraging cross-promotions will optimize sales potential for the month.\n",
        "\n",
        "\n",
        "\n",
        "\n",
        "\n",
        "\n"
      ],
      "metadata": {
        "id": "T6xFB4UykJ6T"
      }
    },
    {
      "cell_type": "markdown",
      "source": [
        "**These are the key areas to prioritize in April 2019 to drive improved sales performance.**\n",
        "\n",
        "**Promote High-Demand Product Bundles**: Leverage popular combinations by creating attractive bundles that include food and beverages, fashion accessories, and electronic accessories. A \"Spring Essentials\" bundle can appeal to customers looking for stylish and practical purchases, while also incorporating sports and travel items to attract outdoor enthusiasts.\n",
        "\n",
        "**Target Key Cities for Sales Efforts**: Focus marketing strategies in Mandalay and Naypyitaw, where there is strong performance in sales, particularly among women in Naypyitaw and competitive male sales in Mandalay. Tailor campaigns to resonate with local demographics to maximize engagement and sales potential.\n",
        "\n",
        "**Utilize Seasonal Trends and Promotions**: Capitalize on seasonal trends, such as Easter, to boost sales of food and beverages through special offers and discounts. Incorporating social media marketing and engaging content will enhance visibility and drive customer interest during this peak shopping period."
      ],
      "metadata": {
        "id": "k2HxtG1Ik0q3"
      }
    },
    {
      "cell_type": "markdown",
      "source": [
        "**2. App Exploration: Explore the features and user experience of the Jar app. Identify two aspects that you think could be significantly improved and explain your reasoning behind each suggestion.**\n",
        "\n",
        "***1. Interactive Tutorial for Feature Exploration:\n",
        "\n",
        " *** The Jar app offers a multitude of features, but some users may overlook them, leading to a suboptimal experience. Implementing a quick and interactive tutorial for new users canaddress this issue by guiding them through the various features of the app.\n",
        "\n",
        "Reason::\n",
        "\n",
        "*** By providing acomprehensive overview, users can explore all aspects of the app without missing any keyfunctionalities, enhancing their overall experience and satisfaction.\n",
        "\n",
        "*** 2. Improvement::\n",
        "\n",
        "*** The left sliding menu should have the ability to be closed with sliding and should have a closing button as a UX improvements.\n",
        "\n",
        "Reason::\n",
        "\n",
        " *** I am supporting my first statement by daily driving different app and have seen people more often swipe. And for the closing button it is like for an age group of 45-60 you should provide a closing button.\n",
        "\n",
        "Improvement::\n",
        "\n",
        "*** In the view profile section swipe to change from profile to settings and vice versa. This thing also exists in Transaction section from Gold to Winnings.\n",
        "\n",
        "Reason::\n",
        "\n",
        "*** For the second point the reason is kind of same as above point that people often prefer to swipe instead of touching it.\n"
      ],
      "metadata": {
        "id": "248N3pRDc4EQ"
      }
    },
    {
      "cell_type": "markdown",
      "source": [
        "**3. Product Optimisation**:\n",
        "\n",
        "The Jar app has an engagement feature called 'Spin to Win'.\n",
        "Right now, if 100 people come to the app each day, only 23 of them try out this spinning game. But, we know that people who spin are more likely to retain on the app and do transactions.\n",
        "\n",
        "Now, we want to get more people to play the game. So, the question is, how can we make sure that at least 50 people out of every 100 who visit the app each day will play 'Spin to Win'? What can we do to get more people interested in spinning the wheel?\n",
        "\n",
        " **ANSWER**\n",
        "\n",
        "• **Make it flashy!** Add some cool graphics or animations when you spin the wheel. People love shiny things, you know?\n",
        "\n",
        "• **Offer better prizes!** Who wouldn't want to win something awesome? Maybe even free stuff or discounts on stuff they actually want to buy.\n",
        "\n",
        "• **Show people what they're missing!** Maybe add a little pop-up that shows what other people have won. A little FOMO (fear of missing out) can go a long way.\n",
        "\n",
        "• **Give everyone a free spin every day!** You gotta give people a taste of the fun to get them hooked.\n",
        "\n",
        "A well-timed pop-up for the spin-the-wheel game can be introduced. By experimentingwith different scenarios, we can figure out the perfect timing for displaying the pop-up.This way, we can make sure users are encouraged to interact with the feature at just theright moment, maximizing their engagement"
      ],
      "metadata": {
        "id": "GiugYqFMfnJn"
      }
    }
  ]
}